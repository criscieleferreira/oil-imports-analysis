{
 "cells": [
  {
   "cell_type": "markdown",
   "id": "49c58a64-2c97-4fa8-a3f7-3b8558295fc9",
   "metadata": {},
   "source": [
    "## Oil Imports"
   ]
  },
  {
   "cell_type": "code",
   "execution_count": 160,
   "id": "415d914c-7f87-4eac-bc66-fd6ad0cbefe3",
   "metadata": {},
   "outputs": [],
   "source": [
    "import requests\n",
    "import pandas as pd\n",
    "import matplotlib.pyplot as plt  \n",
    "import os\n",
    "import calendar"
   ]
  },
  {
   "cell_type": "markdown",
   "id": "273f5cd8-7f5f-486e-acc2-cf3a1cf15fc0",
   "metadata": {},
   "source": [
    "API key"
   ]
  },
  {
   "cell_type": "code",
   "execution_count": 161,
   "id": "f929788b-6348-4ce3-b1b0-efd5308200c2",
   "metadata": {},
   "outputs": [],
   "source": [
    "API_KEY = os.environ.get(\"EIA_API_KEY\")\n",
    "\n",
    "if not API_KEY:\n",
    "    raise ValueError(\"API key not found. Set the EIA_API_KEY environment variable.\")"
   ]
  },
  {
   "cell_type": "markdown",
   "id": "3a16126b-a5cf-41bb-84a8-b91d0c5df838",
   "metadata": {},
   "source": [
    "## Data retrived from https://www.eia.gov/opendata/"
   ]
  },
  {
   "cell_type": "code",
   "execution_count": 162,
   "id": "b1c73de1-4728-4f99-ba0b-fe79f8d1177d",
   "metadata": {},
   "outputs": [],
   "source": [
    "# API endpoint for monthly crude oil imports\n",
    "url = \"https://api.eia.gov/v2/crude-oil-imports/data/?frequency=monthly&data[0]=quantity&start=2023-01&end=2025-01&sort[0][column]=period&sort[0][direction]=asc&offset=0&length=5000\"\n",
    "\n",
    "# Parameters for the request\n",
    "params = {\n",
    "    \"frequency\": \"monthly\",\n",
    "    \"data[0]\": \"quantity\",\n",
    "    \"start\": \"2020-01\",\n",
    "    \"end\": \"2025-01\",\n",
    "    \"sort[0][column]\": \"period\",\n",
    "    \"sort[0][direction]\": \"desc\",\n",
    "    \"api_key\": API_KEY\n",
    "}"
   ]
  },
  {
   "cell_type": "markdown",
   "id": "0841951c-c335-4d89-958a-039ca2190a64",
   "metadata": {},
   "source": [
    "Request "
   ]
  },
  {
   "cell_type": "code",
   "execution_count": 163,
   "id": "77fe192e-2500-49e5-a551-094380b5532d",
   "metadata": {},
   "outputs": [],
   "source": [
    "response = requests.get(url, params=params)\n",
    "\n",
    "# Check if request was successful\n",
    "if response.status_code == 200:\n",
    "    data = response.json()\n",
    "    \n",
    "    # Convert to pandas DataFrame\n",
    "    df = pd.DataFrame(data['response']['data'])\n",
    "\n",
    "else:\n",
    "    print(f\"Error fetching data: {response.status_code}\")\n",
    "    print(response.text)"
   ]
  },
  {
   "cell_type": "markdown",
   "id": "c2faa16b-6fbf-46d4-8c86-635102b7113f",
   "metadata": {},
   "source": [
    "## Initial inspection"
   ]
  },
  {
   "cell_type": "code",
   "execution_count": 164,
   "id": "8d312825-c224-43d8-8e8c-e6bb21e98882",
   "metadata": {
    "scrolled": true
   },
   "outputs": [
    {
     "name": "stdout",
     "output_type": "stream",
     "text": [
      "    period originId originName originType originTypeName destinationId  \\\n",
      "0  2025-01   CTY_KU     Kuwait        CTY        Country          PP_3   \n",
      "1  2025-01   REG_AF     Africa        REG         Region         RS_HI   \n",
      "2  2025-01   REG_AF     Africa        REG         Region         RS_NJ   \n",
      "3  2025-01   REG_AF     Africa        REG         Region         RS_NJ   \n",
      "4  2025-01   REG_AF     Africa        REG         Region       PT_1003   \n",
      "\n",
      "      destinationName destinationType destinationTypeName gradeId  \\\n",
      "0  PADD3 (Gulf Coast)              PP           Port PADD     HSO   \n",
      "1              Hawaii              RS      Refinery State     LSW   \n",
      "2          New Jersey              RS      Refinery State     LSW   \n",
      "3          New Jersey              RS      Refinery State     MED   \n",
      "4          Newark, NJ              PT                Port     LSW   \n",
      "\n",
      "     gradeName quantity    quantity-units  \n",
      "0   Heavy Sour     1039  thousand barrels  \n",
      "1  Light Sweet     1047  thousand barrels  \n",
      "2  Light Sweet     3120  thousand barrels  \n",
      "3       Medium     2781  thousand barrels  \n",
      "4  Light Sweet     2831  thousand barrels  \n"
     ]
    }
   ],
   "source": [
    "print(df.head())  # First 5 rows"
   ]
  },
  {
   "cell_type": "code",
   "execution_count": 165,
   "id": "266bc25d-702d-4675-9c86-3ab62e047d23",
   "metadata": {},
   "outputs": [
    {
     "name": "stdout",
     "output_type": "stream",
     "text": [
      "\n",
      "Data types:\n",
      " period                 object\n",
      "originId               object\n",
      "originName             object\n",
      "originType             object\n",
      "originTypeName         object\n",
      "destinationId          object\n",
      "destinationName        object\n",
      "destinationType        object\n",
      "destinationTypeName    object\n",
      "gradeId                object\n",
      "gradeName              object\n",
      "quantity               object\n",
      "quantity-units         object\n",
      "dtype: object\n"
     ]
    }
   ],
   "source": [
    "print(\"\\nData types:\\n\", df.dtypes)  # Check column types"
   ]
  },
  {
   "cell_type": "code",
   "execution_count": 166,
   "id": "d23acfad-e578-42aa-a972-148271b0919d",
   "metadata": {},
   "outputs": [
    {
     "name": "stdout",
     "output_type": "stream",
     "text": [
      "\n",
      "Missing values:\n",
      " period                 0\n",
      "originId               0\n",
      "originName             0\n",
      "originType             0\n",
      "originTypeName         0\n",
      "destinationId          0\n",
      "destinationName        0\n",
      "destinationType        0\n",
      "destinationTypeName    0\n",
      "gradeId                0\n",
      "gradeName              0\n",
      "quantity               0\n",
      "quantity-units         0\n",
      "dtype: int64\n"
     ]
    }
   ],
   "source": [
    "print(\"\\nMissing values:\\n\", df.isnull().sum())  # Check for gaps"
   ]
  },
  {
   "cell_type": "code",
   "execution_count": 167,
   "id": "90c2b630-fe01-424c-bd45-ac8531362e92",
   "metadata": {},
   "outputs": [
    {
     "name": "stdout",
     "output_type": "stream",
     "text": [
      "\n",
      "Time period covered: 2024-11 to 2025-01\n"
     ]
    }
   ],
   "source": [
    "print(\"\\nTime period covered:\", df['period'].min(), \"to\", df['period'].max()) #check for period range"
   ]
  },
  {
   "cell_type": "code",
   "execution_count": 168,
   "id": "b813fc6f-c664-4dfa-ad14-7ab05c5f0397",
   "metadata": {},
   "outputs": [
    {
     "name": "stdout",
     "output_type": "stream",
     "text": [
      "Duplicate rows: 0\n"
     ]
    }
   ],
   "source": [
    "print(\"Duplicate rows:\", df.duplicated().sum()) #check for duplicates"
   ]
  },
  {
   "cell_type": "code",
   "execution_count": 169,
   "id": "538b9823-5849-405b-9a8b-b799d35b3326",
   "metadata": {},
   "outputs": [
    {
     "name": "stdout",
     "output_type": "stream",
     "text": [
      "period\n",
      "2025-01    2140\n",
      "2024-12    2140\n",
      "2024-11     720\n",
      "Name: count, dtype: int64\n"
     ]
    }
   ],
   "source": [
    "print(df['period'].value_counts()) #counting values of period"
   ]
  },
  {
   "cell_type": "code",
   "execution_count": 170,
   "id": "5c6732a3-8924-494d-8969-e64c7a0a2fe1",
   "metadata": {},
   "outputs": [
    {
     "name": "stdout",
     "output_type": "stream",
     "text": [
      "gradeName\n",
      "Heavy Sour     1930\n",
      "Medium         1433\n",
      "Light Sweet     812\n",
      "Light Sour      619\n",
      "Heavy Sweet     206\n",
      "Name: count, dtype: int64\n"
     ]
    }
   ],
   "source": [
    "print(df['gradeName'].value_counts())"
   ]
  },
  {
   "cell_type": "markdown",
   "id": "2450eea7-b7c2-45fd-b9ce-29577666bb42",
   "metadata": {},
   "source": [
    "Dealing with object type"
   ]
  },
  {
   "cell_type": "code",
   "execution_count": 171,
   "id": "09b09647-21ae-4528-9450-c8de1d9b5de6",
   "metadata": {},
   "outputs": [],
   "source": [
    "# Remove any commas or special characters\n",
    "df['quantity'] = df['quantity'].astype(str).str.replace(',', '')\n",
    "\n",
    "# Convert to numeric, coercing errors\n",
    "df['quantity'] = pd.to_numeric(df['quantity'], errors='coerce')"
   ]
  },
  {
   "cell_type": "markdown",
   "id": "183359a0-4d7d-4927-9f43-f2dac9a67dfa",
   "metadata": {},
   "source": [
    "## Preparing data for plot"
   ]
  },
  {
   "cell_type": "code",
   "execution_count": 172,
   "id": "af12ad80-f3f6-4832-a401-00e5f4480615",
   "metadata": {},
   "outputs": [],
   "source": [
    "# Define the month you want to analyze (e.g., 12 for December)\n",
    "month = 12  # Change this to any month (1-12)\n",
    "\n",
    "# Convert month number to name (e.g., 12 → \"December\")\n",
    "month_name = calendar.month_name[month]"
   ]
  },
  {
   "cell_type": "code",
   "execution_count": 173,
   "id": "02f94413-c0e9-4881-9a53-0465a979ab10",
   "metadata": {},
   "outputs": [],
   "source": [
    "# Filter for December (month 12) of any year\n",
    "grade = df[df['period'].str.endswith(f'-{month:02d}')]  # e.g., \"2023-12\""
   ]
  },
  {
   "cell_type": "code",
   "execution_count": 174,
   "id": "096ad077-a06f-4271-bf36-4e362fe4ac37",
   "metadata": {},
   "outputs": [
    {
     "name": "stdout",
     "output_type": "stream",
     "text": [
      "     gradeName  quantity\n",
      "0   Heavy Sour   3596152\n",
      "4       Medium   1508332\n",
      "3  Light Sweet    336784\n",
      "2   Light Sour    226856\n",
      "1  Heavy Sweet     23576\n"
     ]
    }
   ],
   "source": [
    "# Group by gradeName and sum the quantities\n",
    "grade_totals = grade.groupby('gradeName')['quantity'].sum().reset_index()\n",
    "\n",
    "# Sort by largest quantities first\n",
    "grade_totals = grade_totals.sort_values('quantity', ascending=False)\n",
    "\n",
    "print(grade_totals)"
   ]
  },
  {
   "cell_type": "code",
   "execution_count": 175,
   "id": "fbfc5c46-336b-419b-8e6d-7f65cedaeeb7",
   "metadata": {},
   "outputs": [
    {
     "name": "stdout",
     "output_type": "stream",
     "text": [
      "\n",
      "Quantity min and max: 1 to 129719\n"
     ]
    }
   ],
   "source": [
    "print(\"\\nQuantity min and max:\", df['quantity'].min(), \"to\", df['quantity'].max())"
   ]
  },
  {
   "cell_type": "code",
   "execution_count": 176,
   "id": "e5f8ff7a-7324-4b50-9d61-69b9df38fe5f",
   "metadata": {},
   "outputs": [
    {
     "name": "stdout",
     "output_type": "stream",
     "text": [
      "quantity-units\n",
      "thousand barrels    5000\n",
      "Name: count, dtype: int64\n"
     ]
    }
   ],
   "source": [
    "print(df['quantity-units'].value_counts())"
   ]
  },
  {
   "cell_type": "markdown",
   "id": "501e235e-7212-44a4-84ed-bcf84edd33f3",
   "metadata": {},
   "source": [
    "## Create bar plot"
   ]
  },
  {
   "cell_type": "code",
   "execution_count": 177,
   "id": "998d50b3-2f1c-401c-82c6-978408941bb7",
   "metadata": {},
   "outputs": [
    {
     "data": {
      "image/png": "[encoded data removed]",
      "text/plain": [
       "<Figure size 1000x600 with 1 Axes>"
      ]
     },
     "metadata": {},
     "output_type": "display_data"
    }
   ],
   "source": [
    "plt.figure(figsize=(10, 6))\n",
    "plt.barh(grade_totals['gradeName'], grade_totals['quantity'], color='darkgray')\n",
    "plt.xlabel('Total Quantity (Barrels)')\n",
    "plt.title(f'{month_name}: Crude Oil Grades by Import Barrels')\n",
    "plt.gca().invert_yaxis()  # Highest quantity at top\n",
    "plt.tight_layout()\n",
    "plt.show()"
   ]
  },
  {
   "cell_type": "markdown",
   "id": "e73eb164-96f9-408e-b577-2a1a29d23e1d",
   "metadata": {},
   "source": [
    "Preparing to plot other graph"
   ]
  },
  {
   "cell_type": "code",
   "execution_count": 178,
   "id": "72ef588a-a98e-48e2-92e0-c3ba10b1d40c",
   "metadata": {
    "scrolled": true
   },
   "outputs": [
    {
     "name": "stdout",
     "output_type": "stream",
     "text": [
      "originName\n",
      "World                   860\n",
      "Canada                  813\n",
      "Non-OPEC                776\n",
      "Canada (Region)         554\n",
      "Other Americas          308\n",
      "OPEC                    183\n",
      "Mexico                  181\n",
      "Brazil                  116\n",
      "Middle East              96\n",
      "Saudi Arabia             95\n",
      "Colombia                 94\n",
      "Venezuela                89\n",
      "Iraq                     89\n",
      "Argentina                87\n",
      "Africa                   69\n",
      "Trinidad and Tobago      68\n",
      "Nigeria                  62\n",
      "Angola                   49\n",
      "Europe                   46\n",
      "United Kingdom           46\n",
      "Kazakhstan               43\n",
      "Ecuador                  41\n",
      "Libya                    39\n",
      "Guyana                   35\n",
      "Kuwait                   34\n",
      "Eurasia                  32\n",
      "United Arab Emirates     23\n",
      "Ghana                    21\n",
      "Algeria                  16\n",
      "Norway                   14\n",
      "Peru                      7\n",
      "Guatemala                 7\n",
      "Senegal                   7\n",
      "Name: count, dtype: int64\n"
     ]
    }
   ],
   "source": [
    "print(df['originName'].value_counts())"
   ]
  },
  {
   "cell_type": "markdown",
   "id": "c7ed6df4-c056-446b-b37c-ff4b33e9d80a",
   "metadata": {},
   "source": [
    "Plot that shows the top 10 exportation places"
   ]
  },
  {
   "cell_type": "code",
   "execution_count": 179,
   "id": "0611d452-2bf5-47f9-b5ba-5cf02c1858d2",
   "metadata": {},
   "outputs": [],
   "source": [
    "# Group by 'originName' and sum 'quantity'\n",
    "origin_quantity = grade.groupby('originName')['quantity'].sum().reset_index()\n",
    "\n",
    "# Sort by quantity (descending)\n",
    "origin_quantity = origin_quantity.sort_values('quantity', ascending=False)"
   ]
  },
  {
   "cell_type": "code",
   "execution_count": 180,
   "id": "96205033-abcf-4a3b-8df8-f489494585b4",
   "metadata": {},
   "outputs": [],
   "source": [
    "origin_quantity = origin_quantity.head(10)  # Top 10 countries"
   ]
  },
  {
   "cell_type": "code",
   "execution_count": 182,
   "id": "79e66b51-de51-4601-b75d-8898e06a0bcf",
   "metadata": {},
   "outputs": [
    {
     "data": {
      "image/png": "[encoded data removed]",
      "text/plain": [
       "<Figure size 1500x700 with 1 Axes>"
      ]
     },
     "metadata": {},
     "output_type": "display_data"
    }
   ],
   "source": [
    "# Create the plot\n",
    "plt.figure(figsize=(15, 7))\n",
    "bars = plt.bar(origin_quantity['originName'], origin_quantity['quantity'], color='#1f77b4')\n",
    "\n",
    "# Customize value labels\n",
    "for bar in bars:\n",
    "    height = bar.get_height()\n",
    "    plt.text(\n",
    "        bar.get_x() + bar.get_width() / 2,  # x-position: center of the bar\n",
    "        height + (0.02 * max(origin_quantity['quantity'])),  # y-position: slightly above the bar\n",
    "        f'{height:,.0f}',  # Format with commas (e.g., 1,000,000)\n",
    "        ha='center',       # Horizontal alignment\n",
    "        va='bottom',       # Vertical alignment\n",
    "        fontsize=10,\n",
    "        fontweight='bold'\n",
    "    )\n",
    "\n",
    "# Adjust plot aesthetics\n",
    "plt.xlabel('Country of Origin', fontsize=12)\n",
    "plt.ylabel('Quantity (Barrels)', fontsize=12)\n",
    "plt.title(f'Crude Oil Origin by Quantity Exported ({month_name})', fontsize=14, pad=20)\n",
    "plt.xticks(rotation=45, ha='right')\n",
    "plt.ylim(0, max(origin_quantity['quantity']) * 1.15)  # Add headroom for labels\n",
    "\n",
    "# Add grid and tighten layout\n",
    "plt.grid(axis='y', linestyle='--', alpha=0.3)\n",
    "plt.tight_layout()\n",
    "plt.show()"
   ]
  },
  {
   "cell_type": "code",
   "execution_count": null,
   "id": "387e8fca-c8d8-4c14-b6e0-3e4b5249d060",
   "metadata": {},
   "outputs": [],
   "source": []
  }
 ],
 "metadata": {
  "kernelspec": {
   "display_name": "Python 3 (ipykernel)",
   "language": "python",
   "name": "python3"
  },
  "language_info": {
   "codemirror_mode": {
    "name": "ipython",
    "version": 3
   },
   "file_extension": ".py",
   "mimetype": "text/x-python",
   "name": "python",
   "nbconvert_exporter": "python",
   "pygments_lexer": "ipython3",
   "version": "3.12.4"
  }
 },
 "nbformat": 4,
 "nbformat_minor": 5
}
